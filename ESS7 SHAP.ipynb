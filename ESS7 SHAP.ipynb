{
 "cells": [
  {
   "cell_type": "code",
   "execution_count": null,
   "id": "80d9da16",
   "metadata": {},
   "outputs": [],
   "source": [
    "import pandas as pd\n",
    "import numpy as np\n",
    "import matplotlib.pyplot as plt\n",
    "import seaborn as sns\n",
    "from sklearn.ensemble import RandomForestRegressor\n",
    "from sklearn.model_selection import train_test_split\n",
    "from sklearn import metrics\n",
    "from sklearn.inspection import permutation_importance\n",
    "import shap\n",
    "\n",
    "data_raw = pd.read_csv('https://raw.githubusercontent.com/Thomas-Richardson/Blog_post_data/main/ESS7.csv')"
   ]
  },
  {
   "cell_type": "markdown",
   "id": "6e4bf942",
   "metadata": {},
   "source": [
    "## Clean data"
   ]
  },
  {
   "cell_type": "code",
   "execution_count": null,
   "id": "ef0ac1d6",
   "metadata": {},
   "outputs": [],
   "source": [
    "data = data_raw.drop(columns = ['ess7_id','nuts1','nuts2','nuts3','ess7_reg','Unnamed: 63']) # chuck out useless columns"
   ]
  },
  {
   "cell_type": "code",
   "execution_count": null,
   "id": "0ed6eed5",
   "metadata": {},
   "outputs": [],
   "source": [
    "data.columns\n",
    "\n",
    "data = data.rename(columns = {'cntry':'country', 'tvpol':'daily_tv_consumption','ppltrst':'people_trustworthy', 'pplfair':'people_fair','pplhlp':'people_helpful','lrscale':'political_orientation_lr',\n",
    "    'stfeco':'satisfaction_economy','stfgov':'satisfaction_government','stfdem':'satisfaction_democracy_here','stfedu':'satisfaction_education_system','stfhlth':'satisfaction_healthcare_system',\n",
    "    'sclmeet':'meet_friends&family_often','inprdsc':'people_to_confide_in','sclact':'social_life','crmvct':'burglary_assault_victim_5y','aesfdrk':'fear_area_after_dark','hlthhmp':'disability',\n",
    "    'rlgblg':'religious','dscrgrp':'oppressed_group','ctzcntr':'citizen','blgetmg':'minority','etfruit':'eat_fruit','eatveg':'eat_veg','dosprt':'sport','cgtsmke':'smoker','alcfreq':'alcohol_often',\n",
    "    'alcbnge':'binge_drinking','slprl':'sleep_restless_past_week','fltlnl':'lonely_past_week','cnfpplh':'family_conflict_childhood','fnsdfml':'childhood_financial_problems','gndr':'sex','agea':'age',\n",
    "    'hincfel':'feeling_about_income','atncrse':'improved_knowledge','maritalb':'marital_status','dvrcdeva':'ever_divorced','chldhm':'kids_at_home','domicil':'area_type','eduyrs':'years_education',\n",
    "    'wkhct':'hours_overtime_excl', 'wkhtot':'hours_overtime_incl','nacer2':'industry','uemp3m':'ever_unemployed','hinctnta':'income_decile','psppsgv':'have_say_in_politics',\n",
    "    'psppipl':'have_influence_in_politics','cptppol':'confident_participate_politics', 'ptcpplt':'politicians_listen','trstprl':'trust_parliament','trstlgl':'trust_legal_system',\n",
    "    'trstplc':'trust_police','trstplt':'trust_politicans','trstprt':'trust_political_parties'})\n",
    "\n",
    "#data.political_orientation_lr.value_counts(normalize=True,dropna=False).round(2).to_frame().reset_index().sort_values('index') # % of a column that is taken up by each category"
   ]
  },
  {
   "cell_type": "code",
   "execution_count": null,
   "id": "85e4db4b",
   "metadata": {},
   "outputs": [],
   "source": [
    "#plt.rcParams['figure.figsize'] = [30, 30] # set figure size parameters\n",
    "#data.hist(grid=False, bins = 10)"
   ]
  },
  {
   "cell_type": "code",
   "execution_count": null,
   "id": "6bc69451",
   "metadata": {},
   "outputs": [],
   "source": [
    "#plt.rcParams['figure.figsize'] = [5, 5] # set figure size parameters\n",
    "#data.daily_tv_consumption.hist(grid = False, bins = 10)"
   ]
  },
  {
   "cell_type": "code",
   "execution_count": null,
   "id": "0535b2e8",
   "metadata": {},
   "outputs": [],
   "source": [
    "five_cols = ['social_life','citizen','binge_drinking','sleep_restless_past_week','lonely_past_week','family_conflict_childhood','childhood_financial_problems','sex','ever_divorced','kids_at_home',\n",
    "    'area_type','ever_unemployed','feeling_about_income','improved_knowledge']\n",
    "data[five_cols] = data[five_cols].where(data[five_cols] < 5, np.nan)\n",
    "\n",
    "seven_cols = ['marital_status','meet_friends&family_often','daily_tv_consumption','people_to_confide_in','burglary_assault_victim_5y','fear_area_after_dark','health','disability','religious',\n",
    "    'oppressed_group','citizen','minority','smoker']\n",
    "data[seven_cols] = data[seven_cols].where(data[seven_cols] < 7, np.nan)\n",
    "\n",
    "ten_cols = ['happy','people_trustworthy','people_fair','people_helpful','political_orientation_lr','satisfaction_education_system','satisfaction_healthcare_system','satisfaction_economy','satisfaction_government',\n",
    "    'satisfaction_democracy_here','eat_fruit','eat_veg','sport','alcohol_often','income_decile','have_say_in_politics','have_influence_in_politics','confident_participate_politics','politicians_listen',\n",
    "    'trust_parliament','trust_legal_system','trust_police','trust_politicans','trust_political_parties']\n",
    "data[ten_cols] = data[ten_cols].where(data[ten_cols] < 11, np.nan)\n",
    "\n",
    "data.loc[data.height > 776,'height'] = np.nan\n",
    "data.loc[data.weight > 776,'weight'] = np.nan\n",
    "data.loc[data.age > 998,'age'] = np.nan\n",
    "data.loc[data.years_education > 76,'years_education'] = np.nan\n",
    "data.loc[data.hours_overtime_incl > 665,'hours_overtime_incl'] = np.nan\n",
    "data.loc[data.hours_overtime_excl > 665,'hours_overtime_excl'] = np.nan\n",
    "data.loc[data.industry > 665,'industry'] = np.nan"
   ]
  },
  {
   "cell_type": "code",
   "execution_count": null,
   "id": "87fbbff7",
   "metadata": {},
   "outputs": [],
   "source": [
    "#data.isna().mean().round(3).sort_values(ascending = False)*100 # calculate % of data missing for each column"
   ]
  },
  {
   "cell_type": "code",
   "execution_count": null,
   "id": "eaa4c756",
   "metadata": {},
   "outputs": [],
   "source": [
    "data = data.drop(columns = ['binge_drinking','childhood_financial_problems','family_conflict_childhood','hours_overtime_incl','hours_overtime_excl'])"
   ]
  },
  {
   "cell_type": "code",
   "execution_count": null,
   "id": "ac5d0fd9",
   "metadata": {},
   "outputs": [],
   "source": [
    "data = data.fillna({'income_decile':5,'political_orientation_lr':5})\n",
    "\n",
    "#data.loc[data.income_decile.isna(),'income_decile'] = 5\n",
    "#data.loc[data.political_orientation_lr.isna(),'political_orientation_lr'] = 5"
   ]
  },
  {
   "cell_type": "code",
   "execution_count": null,
   "id": "08dd326c",
   "metadata": {},
   "outputs": [],
   "source": [
    "def invert_binary_variable(col_name):\n",
    "    data.loc[:,col_name] = (3-data.loc[:,col_name])-1\n",
    "\n",
    "def reverse_variable(col_name):\n",
    "    x = data.loc[:,col_name].nunique()+1\n",
    "    data.loc[:,col_name] = x-data.loc[:,col_name]\n",
    "\n",
    "invert_binary_variable(['burglary_assault_victim_5y','religious','oppressed_group','citizen','minority','ever_divorced','improved_knowledge','kids_at_home','sex'])\n",
    "\n",
    "reverse_variable(['fear_area_after_dark','eat_fruit','eat_veg', 'feeling_about_income','health','disability','alcohol_often'])"
   ]
  },
  {
   "cell_type": "code",
   "execution_count": null,
   "id": "fb5d2dfe",
   "metadata": {},
   "outputs": [],
   "source": [
    "#plt.rcParams['figure.figsize'] = [30, 30] # set figure size parameters\n",
    "#data.hist(grid=False, bins = 10)"
   ]
  },
  {
   "cell_type": "code",
   "execution_count": null,
   "id": "3a86bee6",
   "metadata": {},
   "outputs": [],
   "source": [
    "data2 = pd.get_dummies(data, columns = ['marital_status','country', 'industry', 'area_type'], dummy_na = False)"
   ]
  },
  {
   "cell_type": "code",
   "execution_count": null,
   "id": "b780e1dd",
   "metadata": {},
   "outputs": [],
   "source": [
    "data2.shape"
   ]
  },
  {
   "cell_type": "code",
   "execution_count": null,
   "id": "d48c5f1c",
   "metadata": {},
   "outputs": [],
   "source": [
    "data = data2.dropna()\n",
    "data3.shape"
   ]
  },
  {
   "cell_type": "code",
   "execution_count": null,
   "id": "7cc15ef8",
   "metadata": {},
   "outputs": [],
   "source": [
    "data3.to_csv('ESS7_cleaned.csv')"
   ]
  },
  {
   "cell_type": "markdown",
   "id": "205cc052",
   "metadata": {},
   "source": [
    "Looking at the variables, we can see clear separation in lonely: those with low loneliness tended to consistently add about 0.25 points of happiness, whereas those who scored high on loneliness varied in how much it affected their happiness. Some lost 0.1 happiness points, some as much as 1.5!"
   ]
  },
  {
   "cell_type": "markdown",
   "id": "67bdb6ed",
   "metadata": {},
   "source": [
    "## Misc"
   ]
  },
  {
   "cell_type": "code",
   "execution_count": null,
   "id": "d9fd00f0",
   "metadata": {},
   "outputs": [],
   "source": [
    "data3.loc[:,['happy','satisfaction_healthcare_system']].corr()"
   ]
  },
  {
   "cell_type": "code",
   "execution_count": null,
   "id": "d6aefade",
   "metadata": {},
   "outputs": [],
   "source": [
    "#data.loc[:'overtime'] = data.loc[:'hours_overtime_incl'] - data.loc[:'hours_overtime_excl']\n",
    "\n",
    "#data.happy.value_counts(normalize=True,dropna=False).round(2).to_frame().reset_index().sort_values('index')\n",
    "\n",
    "#data['political_orientation_binned']  = pd.cut(x = data['political_orientation_lr'], bins=[0,4,6, 10]) # 11% of people did give political orientation, perhaps bin it?\n",
    "\n",
    "#plt.rcParams['figure.figsize'] = [10, 5] # set figure size parameters\n",
    "#sns.countplot(y = 'political_orientation_binned', data = data)\n",
    "#plt.show()\n",
    "\n",
    "#data.isna().mean().round(3).sort_values(ascending = False)*100 # calculate % of data missing for each column\n",
    "#data2 = data.drop(columns = ['political_orientation_lr']).dropna()"
   ]
  },
  {
   "cell_type": "code",
   "execution_count": null,
   "id": "13f43378",
   "metadata": {},
   "outputs": [],
   "source": [
    "import lime\n",
    "from lime import lime_tabular\n",
    "\n",
    "explainer = lime_tabular.LimeTabularExplainer(\n",
    "    training_data=np.array(X_train),\n",
    "    feature_names=X_train.columns,\n",
    "    class_names=['bad', 'good'],\n",
    "    mode='classification'\n",
    ")\n",
    "\n",
    "exp = explainer.explain_instance(\n",
    "    data_row=X_test.iloc[1], \n",
    "    predict_fn=model.predict_proba\n",
    ")\n",
    "\n",
    "exp.show_in_notebook(show_table=True)"
   ]
  },
  {
   "cell_type": "code",
   "execution_count": null,
   "id": "384d3eba",
   "metadata": {},
   "outputs": [],
   "source": [
    "dfCorr = data.loc[:,variable_to_correlate].corr(method = 'spearman')\n",
    "filteredDf = dfCorr[((dfCorr >= .6) | (dfCorr <= -.6))]\n",
    "mask = np.zeros_like(dfCorr)\n",
    "mask[np.triu_indices_from(mask)] = True\n",
    "plt.figure(figsize=(30,10))\n",
    "sns.heatmap(filteredDf, annot=True, mask= mask, cmap=\"BuPu\")\n",
    "plt.show()"
   ]
  },
  {
   "cell_type": "code",
   "execution_count": null,
   "id": "6a43cee6",
   "metadata": {},
   "outputs": [],
   "source": [
    "#variable_to_correlate = data.columns[data.nunique()>3]\n",
    "#variable_to_correlate= variable_to_correlate.drop(['country','marital_status','industry'])\n",
    "#\n",
    "#plt.rcParams['figure.figsize'] = [30, 30] # set figure size parameters\n",
    "#\n",
    "#correlation_matrix = data.loc[:,variable_to_correlate].corr(method = 'spearman').round(1)\n",
    "#mask = np.zeros_like(correlation_matrix)\n",
    "#mask[np.triu_indices_from(mask)] = True\n",
    "#sns.heatmap(correlation_matrix, annot = True,vmin = -1, vmax=1,mask=mask, square=True, cmap=\"BuPu\")\n",
    "#plt.show()\n",
    "#variable_to_correlatedata.loc[:,variable_to_correlate].corr(method = 'spearman').abs().unstack().sort_values(ascending=False).drop_duplicates()"
   ]
  }
 ],
 "metadata": {
  "interpreter": {
   "hash": "149232f8ff6548775c62650034e9e16aaa295a3d7725486cd23745b8695f2517"
  },
  "kernelspec": {
   "display_name": "Python 3 (ipykernel)",
   "language": "python",
   "name": "python3"
  },
  "language_info": {
   "codemirror_mode": {
    "name": "ipython",
    "version": 3
   },
   "file_extension": ".py",
   "mimetype": "text/x-python",
   "name": "python",
   "nbconvert_exporter": "python",
   "pygments_lexer": "ipython3",
   "version": "3.9.7"
  }
 },
 "nbformat": 4,
 "nbformat_minor": 5
}
